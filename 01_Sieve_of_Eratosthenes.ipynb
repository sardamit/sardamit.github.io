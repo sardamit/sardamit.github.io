{
  "nbformat": 4,
  "nbformat_minor": 0,
  "metadata": {
    "colab": {
      "name": "01 Sieve of Eratosthenes.ipynb",
      "version": "0.3.2",
      "provenance": [],
      "collapsed_sections": [],
      "include_colab_link": true
    },
    "kernelspec": {
      "name": "python3",
      "display_name": "Python 3"
    }
  },
  "cells": [
    {
      "cell_type": "markdown",
      "metadata": {
        "id": "view-in-github",
        "colab_type": "text"
      },
      "source": [
        "[View in Colaboratory](https://colab.research.google.com/github/sardamit/sardamit.github.io/blob/master/01_Sieve_of_Eratosthenes.ipynb)"
      ]
    },
    {
      "metadata": {
        "id": "wvG8OmJeaauT",
        "colab_type": "text"
      },
      "cell_type": "markdown",
      "source": [
        "A Python implementation of the [Sieve of Eratosthenes].(https://en.wikipedia.org/wiki/Sieve_of_Eratosthenes)\n",
        "\n",
        "Source: Wikipedia\n",
        "\n",
        "![Visual Representation](https://upload.wikimedia.org/wikipedia/commons/b/b9/Sieve_of_Eratosthenes_animation.gif)"
      ]
    },
    {
      "metadata": {
        "id": "DTnJGxp3Xlr2",
        "colab_type": "code",
        "colab": {}
      },
      "cell_type": "code",
      "source": [
        "limit = 17\n",
        "array = [0] * (limit + 1)\n",
        "p = 2\n",
        "\n",
        "for i in range (p, limit + 1):\n",
        "    for j in range (2, limit + 1):\n",
        "        if i*j > limit:\n",
        "            break\n",
        "        array[j*i] = 1\n",
        "\n",
        "for i in range (p, len(array)):\n",
        "    if array[i] == 0:\n",
        "        print (i)"
      ],
      "execution_count": 0,
      "outputs": []
    },
    {
      "metadata": {
        "id": "TvhqfeVIZlKH",
        "colab_type": "code",
        "colab": {}
      },
      "cell_type": "code",
      "source": [
        ""
      ],
      "execution_count": 0,
      "outputs": []
    }
  ]
}