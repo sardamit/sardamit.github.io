{
  "nbformat": 4,
  "nbformat_minor": 0,
  "metadata": {
    "colab": {
      "name": "01 Sieve of Eratosthenes.ipynb",
      "version": "0.3.2",
      "provenance": [],
      "collapsed_sections": [],
      "include_colab_link": true
    },
    "kernelspec": {
      "name": "python3",
      "display_name": "Python 3"
    }
  },
  "cells": [
    {
      "cell_type": "markdown",
      "metadata": {
        "id": "view-in-github",
        "colab_type": "text"
      },
      "source": [
        "[View in Colaboratory](https://colab.research.google.com/github/sardamit/sardamit.github.io/blob/master/01_Sieve_of_Eratosthenes.ipynb)"
      ]
    },
    {
      "metadata": {
        "id": "DTnJGxp3Xlr2",
        "colab_type": "code",
        "colab": {
          "base_uri": "https://localhost:8080/",
          "height": 136
        },
        "outputId": "c7eb4369-d8c6-419e-87c4-c64f4a0da845"
      },
      "cell_type": "code",
      "source": [
        "limit = 17\n",
        "array = [0] * (limit + 1)\n",
        "p = 2\n",
        "\n",
        "for i in range (p, limit + 1):\n",
        "    for j in range (2, limit + 1):\n",
        "        if i*j > limit:\n",
        "            break\n",
        "        array[j*i] = 1\n",
        "\n",
        "for i in range (p, len(array)):\n",
        "    if array[i] == 0:\n",
        "        print (i)"
      ],
      "execution_count": 0,
      "outputs": [
        {
          "output_type": "stream",
          "text": [
            "2\n",
            "3\n",
            "5\n",
            "7\n",
            "11\n",
            "13\n",
            "17\n"
          ],
          "name": "stdout"
        }
      ]
    },
    {
      "metadata": {
        "id": "TvhqfeVIZlKH",
        "colab_type": "code",
        "colab": {}
      },
      "cell_type": "code",
      "source": [
        ""
      ],
      "execution_count": 0,
      "outputs": []
    }
  ]
}